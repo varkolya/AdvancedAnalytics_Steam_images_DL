{
 "cells": [
  {
   "cell_type": "code",
   "execution_count": null,
   "metadata": {},
   "outputs": [],
   "source": [
    "import json\n",
    "import os\n",
    "import numpy as np\n",
    "import tensorflow as tf\n",
    "import tensorflow.keras.layers as tfl\n",
    "from tensorflow.keras.preprocessing import image\n",
    "from keras.applications.mobilenet_v2 import preprocess_input, decode_predictions"
   ]
  },
  {
   "cell_type": "code",
   "execution_count": null,
   "metadata": {},
   "outputs": [],
   "source": [
    "# Load the pre-trained image classification model from tensorflow - this might change\n",
    "model = tf.keras.applications.MobileNetV2(weights='imagenet', include_top=True)\n",
    "model.summary()"
   ]
  },
  {
   "cell_type": "code",
   "execution_count": 11,
   "metadata": {},
   "outputs": [
    {
     "name": "stdout",
     "output_type": "stream",
     "text": [
      "global_average_pooling2d_1\n",
      "predictions\n"
     ]
    }
   ],
   "source": [
    "# Look at the top 2 layers \n",
    "nb_layers = len(model.layers)\n",
    "print(model.layers[nb_layers - 2].name)\n",
    "print(model.layers[nb_layers - 1].name)"
   ]
  },
  {
   "cell_type": "code",
   "execution_count": null,
   "metadata": {},
   "outputs": [],
   "source": [
    "# Load the JSON data\n",
    "with open('train_data.json') as a:\n",
    "    train_data = json.load(a)\n",
    "with open('test_data.json') as b:\n",
    "    test_data = json.load(b)\n",
    "\n",
    "print(train_data[0]['title'])"
   ]
  },
  {
   "cell_type": "code",
   "execution_count": null,
   "metadata": {},
   "outputs": [],
   "source": [
    "# Define the new model\n",
    "def sentiment_model(image_shape=(224, 224)):\n",
    "    ''' Define a tf.keras model for binary classification out of the MobileNetV2 model\n",
    "    Arguments:\n",
    "        image_shape -- Image width and height\n",
    "    Returns:\n",
    "    Returns:\n",
    "        tf.keras.model\n",
    "    '''\n",
    "\n",
    "    input_shape = image_shape + (3,)\n",
    "        \n",
    "    base_model = tf.keras.applications.MobileNetV2(input_shape=input_shape,\n",
    "                                                   include_top=False, \n",
    "                                                   weights='imagenet') \n",
    "        \n",
    "    # freeze the base model by making it non trainable\n",
    "    base_model.trainable = False \n",
    "\n",
    "    # create the input layer (Same as the imageNetv2 input size)\n",
    "    inputs = tf.keras.Input(shape=input_shape) \n",
    "    \n",
    "    # data preprocessing using the same weights the model was trained on\n",
    "    x = preprocess_input(x) \n",
    "    \n",
    "    # set training to False to avoid keeping track of statistics in the batch norm layer\n",
    "    x = base_model(x, training=False) \n",
    "    \n",
    "    # add the new Binary classification layers\n",
    "    # use global avg pooling to summarize the info in each channel\n",
    "    x = tfl.GlobalAveragePooling2D()(x) \n",
    "    #include dropout with probability of 0.2 to avoid overfitting\n",
    "    x = tfl.Dropout(0.2)(x)\n",
    "        \n",
    "    # create a prediction layer with one neuron (as a classifier only needs one)\n",
    "    prediction_layer = tfl.Dense(1)\n",
    "    \n",
    "    ### END CODE HERE\n",
    "    \n",
    "    outputs = prediction_layer(x)\n",
    "    model = tf.keras.Model(inputs, outputs)\n",
    "    \n",
    "    return model\n",
    "    "
   ]
  },
  {
   "cell_type": "code",
   "execution_count": null,
   "metadata": {},
   "outputs": [],
   "source": [
    "# Initialize variables to count correct predictions\n",
    "total_games = 0\n",
    "correct_predictions = 0"
   ]
  },
  {
   "cell_type": "code",
   "execution_count": null,
   "metadata": {},
   "outputs": [],
   "source": [
    "# Iterate over each game in the JSON file\n",
    "for game in data:\n",
    "    game_name = game['title']\n",
    "    sentiment = game['sentiment']\n",
    "    images = game['screenshots']\n",
    "\n",
    "    # Initialize variables to count sentiments for the game\n",
    "    positive_count = 0\n",
    "    negative_count = 0\n",
    "    \n",
    "    for image_path in images:\n",
    "        img = image.load_img(os.path.join('C:/Users/Beste/Desktop/AAB/images-big', image_path), target_size=(224,224))\n",
    "        img_array = image.img_to_array(img)\n",
    "        img_array = np.expand_dims(img_array, axis=0)\n",
    "        img_array /= 255.\n",
    "        img_array = preprocess_input(img_array)\n",
    "\n",
    "        prediction = model.predict(img_array)[0]\n",
    "    \n",
    "        predicted_sentiment = 'Positive' if prediction[1] > 0.5 else 'Negative'\n",
    "        \n",
    "        # Update sentiment counts\n",
    "        if predicted_sentiment == 'Positive':\n",
    "            positive_count += 1\n",
    "        else:\n",
    "            negative_count += 1\n",
    "    \n",
    "    # Decide on the sentiment for the game\n",
    "    if positive_count > negative_count:\n",
    "        final_predicted_sentiment = 'Positive'\n",
    "    else:\n",
    "        final_predicted_sentiment = 'Negative'\n",
    "    \n",
    "    # Compare predicted sentiment with truth\n",
    "    if final_predicted_sentiment == sentiment:\n",
    "        correct_predictions += 1\n",
    "    # Increment total games counter\n",
    "    total_games += 1\n",
    "\n",
    "\n",
    "accuracy_percentage = (correct_predictions / total_games) * 100\n",
    "print(f\"Total games: {total_games}, Correct predictions: {correct_predictions}, Accuracy: {accuracy_percentage:.2f}%\")"
   ]
  }
 ],
 "metadata": {
  "kernelspec": {
   "display_name": "Python 3",
   "language": "python",
   "name": "python3"
  },
  "language_info": {
   "codemirror_mode": {
    "name": "ipython",
    "version": 3
   },
   "file_extension": ".py",
   "mimetype": "text/x-python",
   "name": "python",
   "nbconvert_exporter": "python",
   "pygments_lexer": "ipython3",
   "version": "3.12.3"
  }
 },
 "nbformat": 4,
 "nbformat_minor": 2
}

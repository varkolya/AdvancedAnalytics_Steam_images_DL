{
 "cells": [
  {
   "cell_type": "code",
   "execution_count": 1,
   "id": "269fcb63",
   "metadata": {
    "ExecuteTime": {
     "end_time": "2024-04-25T14:32:01.136197Z",
     "start_time": "2024-04-25T14:32:01.133799Z"
    }
   },
   "outputs": [],
   "source": [
    "import json"
   ]
  },
  {
   "cell_type": "code",
   "execution_count": 2,
   "id": "b45bf1dd",
   "metadata": {
    "ExecuteTime": {
     "end_time": "2024-04-25T14:33:44.614812Z",
     "start_time": "2024-04-25T14:33:44.437769Z"
    }
   },
   "outputs": [],
   "source": [
    "# Load json\n",
    "data = json.load(open('dataset.json'))"
   ]
  },
  {
   "cell_type": "code",
   "execution_count": null,
   "id": "0f05ef54",
   "metadata": {},
   "outputs": [],
   "source": []
  }
 ],
 "metadata": {
  "kernelspec": {
   "display_name": "Python 3 (ipykernel)",
   "language": "python",
   "name": "python3"
  },
  "language_info": {
   "codemirror_mode": {
    "name": "ipython",
    "version": 3
   },
   "file_extension": ".py",
   "mimetype": "text/x-python",
   "name": "python",
   "nbconvert_exporter": "python",
   "pygments_lexer": "ipython3",
   "version": "3.11.2"
  },
  "varInspector": {
   "cols": {
    "lenName": 16,
    "lenType": 16,
    "lenVar": 40
   },
   "kernels_config": {
    "python": {
     "delete_cmd_postfix": "",
     "delete_cmd_prefix": "del ",
     "library": "var_list.py",
     "varRefreshCmd": "print(var_dic_list())"
    },
    "r": {
     "delete_cmd_postfix": ") ",
     "delete_cmd_prefix": "rm(",
     "library": "var_list.r",
     "varRefreshCmd": "cat(var_dic_list()) "
    }
   },
   "types_to_exclude": [
    "module",
    "function",
    "builtin_function_or_method",
    "instance",
    "_Feature"
   ],
   "window_display": false
  }
 },
 "nbformat": 4,
 "nbformat_minor": 5
}
